{
 "cells": [
  {
   "cell_type": "markdown",
   "metadata": {},
   "source": [
    "### Analysis of an E-commerce Dataset\n",
    "\n",
    "We have been provided with a combined e-commerce dataset. In this dataset, each user has the ability to post a rating and review for the products they purchased. Additionally, other users can evaluate the initial rating and review by expressing their trust or distrust.\n",
    "\n",
    "This dataset includes a wealth of information for each user. Details such as their profile, ID, gender, city of birth, product ratings (on a scale of 1-5), reviews, and the prices of the products they purchased are all included. Moreover, for each product rating, we have information about the product name, ID, price, and category, the rating score, the timestamp of the rating and review, and the average helpfulness of the rating given by others (on a scale of 1-5).\n",
    "\n",
    "The dataset is from several data sources, and we have merged all the data into a single CSV file named 'A Combined E-commerce Dataset.csv'. The structure of this dataset is represented in the header shown below.\n",
    "\n",
    "| userId | gender | rating | review| item | category | helpfulness | timestamp | item_id | item_price | user_city|\n",
    "\n",
    "    | ---- | ---- | ---- | ---- | ---- | ---- | ---- | ---- | ---- |  ---- |  ---- |  \n",
    "    \n",
    "#### Description of Fields\n",
    "\n",
    "* __userId__ - the user's id\n",
    "* __gender__ - the user's gender\n",
    "* __rating__ - the user's rating towards the item\n",
    "* __review__ - the user's review towards the item\n",
    "* __item__ - the item's name\n",
    "* __category__ - the category of the item\n",
    "* __helpfulness__ - the average helpfulness of this rating\n",
    "* __timestamp__ - the timestamp when the rating is created\n",
    "* __item_id__ - the item's id\n",
    "* __item_price__ - the item's price\n",
    "* __user_city__ - the city of user's birth\n",
    "\n",
    "Note that, a user may rate multiple items and an item may receive ratings and reviews from multiple users. The \"helpfulness\" is an average value based on all the helpfulness values given by others.\n",
    "\n",
    "There are four questions to explore with the data as shown below.\n",
    "\n",
    "\n",
    "\n",
    "<img src=\"data-relation.png\" align=\"left\" width=\"400\"/>\n"
   ]
  },
  {
   "cell_type": "markdown",
   "metadata": {},
   "source": [
    " #### Q1. Remove missing data\n",
    " \n",
    "Please remove the following records in the csv file: \n",
    " \n",
    " * gender/rating/helpfulness is missing\n",
    " * review is 'none'\n",
    "\n",
    "__Display the DataFrame, counting number of Null values in each column, and print the length of the data__ before and after removing the missing data.  "
   ]
  },
  {
   "cell_type": "code",
   "execution_count": 10,
   "metadata": {},
   "outputs": [
    {
     "name": "stdout",
     "output_type": "stream",
     "text": [
      "       userId  timestamp                                    review  \\\n",
      "0        4051      12807                 Great job for what it is!   \n",
      "1        4052     122899               Free Access Worth your Time   \n",
      "2          33      12700             AOL..I love you!!!!!!!!!!!!     \n",
      "3          33      21000              EBAY!!!  I LOVE YOU!!!! :-)*   \n",
      "4          33      22300           Blair Witch...Oh Come On.......   \n",
      "...       ...        ...                                       ...   \n",
      "19995   10805      50600                 The Upper Class Fast Food   \n",
      "19996   10806      82201             What more can you ask for????   \n",
      "19997   10806      82201          Excellent steak for a good price   \n",
      "19998   10807      31504                     Different story world   \n",
      "19999   10808      10200  Boldly Displaying Sigourneys Cleavage ..   \n",
      "\n",
      "                                                    item  rating  helpfulness  \\\n",
      "0                                                   eBay     5.0          2.0   \n",
      "1                                                NetZero     5.0          0.0   \n",
      "2                                   AOL (America Online)     5.0          4.0   \n",
      "3                                                   eBay     5.0          4.0   \n",
      "4                                    Blair Witch Project     1.0          4.0   \n",
      "...                                                  ...     ...          ...   \n",
      "19995                                            Wendy's     2.0          3.0   \n",
      "19996                                       Olive Garden     4.0          0.0   \n",
      "19997                                 Outback Steakhouse     4.0          3.0   \n",
      "19998  J. K. Rowling - Harry Potter and the Sorcerer'...     4.0          0.0   \n",
      "19999                                       Galaxy Quest     4.0          0.0   \n",
      "\n",
      "      gender                  category  item_id  item_price  user_city  \n",
      "0          F  Online Stores & Services       88      149.00         39  \n",
      "1          F  Online Stores & Services       46       53.00         39  \n",
      "2          F  Online Stores & Services        0      145.84         31  \n",
      "3          F  Online Stores & Services       88      149.00         31  \n",
      "4          F                    Movies       12       44.00         31  \n",
      "...      ...                       ...      ...         ...        ...  \n",
      "19995      F     Restaurants & Gourmet       84       69.00         18  \n",
      "19996      M     Restaurants & Gourmet       49       32.00         28  \n",
      "19997      M     Restaurants & Gourmet       50       25.00         28  \n",
      "19998      M                     Books       36       96.00         27  \n",
      "19999      M                    Movies       29       67.00         11  \n",
      "\n",
      "[20000 rows x 11 columns]\n"
     ]
    }
   ],
   "source": [
    "import pandas as pd\n",
    "\n",
    "# Load the CSV file into a DataFrame\n",
    "file_path = 'The E-commerce Dataset.csv'\n",
    "df = pd.read_csv(file_path)\n",
    "print(df)\n",
    "\n"
   ]
  },
  {
   "cell_type": "markdown",
   "metadata": {},
   "source": [
    "#### Q2. Descriptive statistics\n",
    "\n",
    "With the cleaned data in Q1, please provide the data summarization as below:\n",
    "\n",
    "* Q2.1 total number of unique users, unique reviews, unique items, and unique categories\n",
    "* Q2.2 descriptive statistics, e.g., the total number, mean, std, min and max regarding all rating records\n",
    "* Q2.3 descriptive statistics, e.g., mean, std, max, and min of the number of items rated by different genders \n",
    "* Q2.4 descriptive statistics, e.g., mean, std, max, min of the number of ratings that received by each items \n"
   ]
  },
  {
   "cell_type": "code",
   "execution_count": 1,
   "metadata": {},
   "outputs": [
    {
     "name": "stdout",
     "output_type": "stream",
     "text": [
      "Q2.1:\n",
      "Total unique users: 8580\n",
      "Total unique reviews: 19524\n",
      "Total unique items: 89\n",
      "Total unique categories: 9\n",
      "\n",
      "Q2.2:\n",
      "Rating Descriptive Statistics:\n",
      "count    19983.000000\n",
      "mean         3.701847\n",
      "std          1.404619\n",
      "min          1.000000\n",
      "25%          3.000000\n",
      "50%          4.000000\n",
      "75%          5.000000\n",
      "max          5.000000\n",
      "Name: rating, dtype: float64\n",
      "\n",
      "Q2.3:\n",
      "Gender-wise Item Count Descriptive Statistics:\n",
      "count        2.000000\n",
      "mean      9986.500000\n",
      "std        236.880772\n",
      "min       9819.000000\n",
      "25%       9902.750000\n",
      "50%       9986.500000\n",
      "75%      10070.250000\n",
      "max      10154.000000\n",
      "Name: item_id, dtype: float64\n",
      "\n",
      "Q2.4:\n",
      "Item-wise Rating Count Descriptive Statistics:\n",
      "count     89.000000\n",
      "mean     224.719101\n",
      "std      116.923731\n",
      "min      140.000000\n",
      "25%      162.000000\n",
      "50%      187.000000\n",
      "75%      245.000000\n",
      "max      944.000000\n",
      "Name: count, dtype: float64\n"
     ]
    }
   ],
   "source": [
    "\n"
   ]
  },
  {
   "cell_type": "markdown",
   "metadata": {},
   "source": [
    "#### Q3. Plotting and Analysis\n",
    "\n",
    "Please try to explore the correlation between gender/helpfulness/category and ratings; for instance, do female/male users tend to provide higher ratings than male/female users? Hint: you may use the boxplot function to plot figures for comparison (___Challenge___)\n",
    "    \n",
    "You may need to select the most suitable graphic forms for ease of presentation. Most importantly, for each figure or subfigure, please summarise ___what each plot shows___ (i.e. observations and explanations). Finally, you may need to provide an overall summary of the data."
   ]
  },
  {
   "cell_type": "code",
   "execution_count": null,
   "metadata": {},
   "outputs": [],
   "source": [
    "# your code and solutions"
   ]
  },
  {
   "cell_type": "markdown",
   "metadata": {},
   "source": [
    "#### Q4. Detect and remove outliers\n",
    "\n",
    "We may define outlier users, reviews and items with three rules (if a record meets one of the rules, it is regarded as an outlier):\n",
    "\n",
    "* reviews of which the helpfulness is no more than 2\n",
    "* users who rate less than 7 items\n",
    "* items that receives less than 11 ratings \n",
    " \n",
    "Please remove the corresponding records in the csv file that involves outlier users, reviews and items. After that, __print the length of the data__."
   ]
  },
  {
   "cell_type": "code",
   "execution_count": 1,
   "metadata": {},
   "outputs": [],
   "source": [
    "# your code and solutions"
   ]
  }
 ],
 "metadata": {
  "kernelspec": {
   "display_name": "Python 3.11.4 64-bit",
   "language": "python",
   "name": "python3"
  },
  "language_info": {
   "codemirror_mode": {
    "name": "ipython",
    "version": 3
   },
   "file_extension": ".py",
   "mimetype": "text/x-python",
   "name": "python",
   "nbconvert_exporter": "python",
   "pygments_lexer": "ipython3",
   "version": "3.11.4"
  },
  "vscode": {
   "interpreter": {
    "hash": "03100797071d81d2fc1614d8d4a7b85db30280222e7da549502335b5750ba344"
   }
  }
 },
 "nbformat": 4,
 "nbformat_minor": 5
}
