{
 "cells": [
  {
   "cell_type": "markdown",
   "metadata": {},
   "source": [
    "### Analysis of an E-commerce Dataset\n",
    "\n",
    "We have been provided with a combined e-commerce dataset. In this dataset, each user has the ability to post a rating and review for the products they purchased. Additionally, other users can evaluate the initial rating and review by expressing their trust or distrust.\n",
    "\n",
    "This dataset includes a wealth of information for each user. Details such as their profile, ID, gender, city of birth, product ratings (on a scale of 1-5), reviews, and the prices of the products they purchased are all included. Moreover, for each product rating, we have information about the product name, ID, price, and category, the rating score, the timestamp of the rating and review, and the average helpfulness of the rating given by others (on a scale of 1-5).\n",
    "\n",
    "The dataset is from several data sources, and we have merged all the data into a single CSV file named 'A Combined E-commerce Dataset.csv'. The structure of this dataset is represented in the header shown below.\n",
    "\n",
    "| userId | gender | rating | review| item | category | helpfulness | timestamp | item_id | item_price | user_city|\n",
    "\n",
    "    | ---- | ---- | ---- | ---- | ---- | ---- | ---- | ---- | ---- |  ---- |  ---- |  \n",
    "    \n",
    "#### Description of Fields\n",
    "\n",
    "* __userId__ - the user's id\n",
    "* __gender__ - the user's gender\n",
    "* __rating__ - the user's rating towards the item\n",
    "* __review__ - the user's review towards the item\n",
    "* __item__ - the item's name\n",
    "* __category__ - the category of the item\n",
    "* __helpfulness__ - the average helpfulness of this rating\n",
    "* __timestamp__ - the timestamp when the rating is created\n",
    "* __item_id__ - the item's id\n",
    "* __item_price__ - the item's price\n",
    "* __user_city__ - the city of user's birth\n",
    "\n",
    "Note that, a user may rate multiple items and an item may receive ratings and reviews from multiple users. The \"helpfulness\" is an average value based on all the helpfulness values given by others.\n",
    "\n",
    "There are four questions to explore with the data as shown below.\n",
    "\n",
    "\n",
    "\n",
    "<img src=\"data-relation.png\" align=\"left\" width=\"400\"/>\n"
   ]
  },
  {
   "cell_type": "markdown",
   "metadata": {},
   "source": [
    " #### Q1. Remove missing data\n",
    " \n",
    "Please remove the following records in the csv file: \n",
    " \n",
    " * gender/rating/helpfulness is missing\n",
    " * review is 'none'\n",
    "\n",
    "__Display the DataFrame, counting number of Null values in each column, and print the length of the data__ before and after removing the missing data.  "
   ]
  },
  {
   "cell_type": "code",
   "execution_count": 25,
   "metadata": {},
   "outputs": [
    {
     "name": "stdout",
     "output_type": "stream",
     "text": [
      "Before removing missing data:\n",
      "userId          0\n",
      "timestamp       0\n",
      "review          0\n",
      "item            0\n",
      "rating         17\n",
      "helpfulness    22\n",
      "gender         27\n",
      "category        0\n",
      "item_id         0\n",
      "item_price      0\n",
      "user_city       0\n",
      "dtype: int64\n",
      "\n",
      "After removing missing data:\n",
      "userId         0\n",
      "timestamp      0\n",
      "review         0\n",
      "item           0\n",
      "rating         0\n",
      "helpfulness    0\n",
      "gender         0\n",
      "category       0\n",
      "item_id        0\n",
      "item_price     0\n",
      "user_city      0\n",
      "dtype: int64\n",
      "\n",
      "Length of data before removing: 20000\n",
      "Length of data after removing: 19916\n"
     ]
    }
   ],
   "source": [
    "import pandas as pd\n",
    "\n",
    "# Load the CSV file into a DataFrame\n",
    "file_path = 'The E-commerce Dataset.csv'\n",
    "df = pd.read_csv(file_path)\n",
    "#print(df)\n",
    "\n",
    "#print(\"Print all the Null Values\")\n",
    "#print(df.isnull())\n",
    "\n",
    "#rows_with_null = df[df.isnull().any(axis=1)]\n",
    "#print(rows_with_null)\n",
    "\n",
    "# Display the DataFrame and count Null values in each column\n",
    "print(\"Before removing missing data:\")\n",
    "\n",
    "print(df.isnull().sum())\n",
    "\n",
    "#drop rows using dropna function\n",
    "filtered_df = df.dropna(subset=['gender', 'rating', 'helpfulness'], inplace=False)\n",
    "#review is none\n",
    "filtered_df = filtered_df[filtered_df['review'] != 'none']\n",
    "\n",
    "print(\"\\nAfter removing missing data:\")\n",
    "print(filtered_df.isnull().sum())\n",
    "\n",
    "# Print data before and after\n",
    "print(\"\\nLength of data before removing:\", len(df))\n",
    "print(\"Length of data after removing:\", len(filtered_df))\n",
    "\n"
   ]
  },
  {
   "cell_type": "markdown",
   "metadata": {},
   "source": [
    "#### Q2. Descriptive statistics\n",
    "\n",
    "With the cleaned data in Q1, please provide the data summarization as below:\n",
    "\n",
    "* Q2.1 total number of unique users, unique reviews, unique items, and unique categories\n",
    "* Q2.2 descriptive statistics, e.g., the total number, mean, std, min and max regarding all rating records\n",
    "* Q2.3 descriptive statistics, e.g., mean, std, max, and min of the number of items rated by different genders \n",
    "* Q2.4 descriptive statistics, e.g., mean, std, max, min of the number of ratings that received by each items \n"
   ]
  },
  {
   "cell_type": "code",
   "execution_count": 33,
   "metadata": {},
   "outputs": [
    {
     "name": "stdout",
     "output_type": "stream",
     "text": [
      "8562\n",
      "19459\n",
      "89\n",
      "['Online Stores & Services' 'Movies' 'Restaurants & Gourmet'\n",
      " 'Personal Finance' 'Kids & Family' 'Hotels & Travel' 'Media' 'Games'\n",
      " 'Books']\n",
      "9\n"
     ]
    }
   ],
   "source": [
    "#Q2.1\n",
    "#nunique() gets the number of unique items and unique() get the list or array of those items\n",
    "unique_users = filtered_df['userId'].nunique()\n",
    "print(unique_users)\n",
    "\n",
    "unique_reviews = filtered_df['review'].nunique()\n",
    "print(unique_reviews)\n",
    "\n",
    "unique_items = filtered_df['item'].nunique()\n",
    "print(unique_items)\n",
    "\n",
    "unique_categories = filtered_df['category'].unique()\n",
    "print(unique_categories)\n",
    "\n",
    "unique_categories = filtered_df['category'].nunique()\n",
    "print(unique_categories)"
   ]
  },
  {
   "cell_type": "markdown",
   "metadata": {},
   "source": [
    "#### Q3. Plotting and Analysis\n",
    "\n",
    "Please try to explore the correlation between gender/helpfulness/category and ratings; for instance, do female/male users tend to provide higher ratings than male/female users? Hint: you may use the boxplot function to plot figures for comparison (___Challenge___)\n",
    "    \n",
    "You may need to select the most suitable graphic forms for ease of presentation. Most importantly, for each figure or subfigure, please summarise ___what each plot shows___ (i.e. observations and explanations). Finally, you may need to provide an overall summary of the data."
   ]
  },
  {
   "cell_type": "code",
   "execution_count": null,
   "metadata": {},
   "outputs": [],
   "source": [
    "# your code and solutions"
   ]
  },
  {
   "cell_type": "markdown",
   "metadata": {},
   "source": [
    "#### Q4. Detect and remove outliers\n",
    "\n",
    "We may define outlier users, reviews and items with three rules (if a record meets one of the rules, it is regarded as an outlier):\n",
    "\n",
    "* reviews of which the helpfulness is no more than 2\n",
    "* users who rate less than 7 items\n",
    "* items that receives less than 11 ratings \n",
    " \n",
    "Please remove the corresponding records in the csv file that involves outlier users, reviews and items. After that, __print the length of the data__."
   ]
  },
  {
   "cell_type": "code",
   "execution_count": 1,
   "metadata": {},
   "outputs": [],
   "source": [
    "# your code and solutions"
   ]
  }
 ],
 "metadata": {
  "kernelspec": {
   "display_name": "Python 3.11.4 64-bit",
   "language": "python",
   "name": "python3"
  },
  "language_info": {
   "codemirror_mode": {
    "name": "ipython",
    "version": 3
   },
   "file_extension": ".py",
   "mimetype": "text/x-python",
   "name": "python",
   "nbconvert_exporter": "python",
   "pygments_lexer": "ipython3",
   "version": "3.11.4"
  },
  "vscode": {
   "interpreter": {
    "hash": "03100797071d81d2fc1614d8d4a7b85db30280222e7da549502335b5750ba344"
   }
  }
 },
 "nbformat": 4,
 "nbformat_minor": 5
}
